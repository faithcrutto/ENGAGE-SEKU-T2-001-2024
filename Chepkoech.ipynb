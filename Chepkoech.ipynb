{
 "cells": [
  {
   "cell_type": "code",
   "execution_count": 1,
   "id": "7d9c1526-6314-49e7-8f16-adf8338818a3",
   "metadata": {},
   "outputs": [
    {
     "name": "stdout",
     "output_type": "stream",
     "text": [
      "18\n"
     ]
    }
   ],
   "source": [
    "age=18\n",
    "print(age)"
   ]
  },
  {
   "cell_type": "code",
   "execution_count": 2,
   "id": "084efa51-a616-4686-8d09-4a2a0c033f6e",
   "metadata": {},
   "outputs": [
    {
     "name": "stdout",
     "output_type": "stream",
     "text": [
      "faith\n"
     ]
    }
   ],
   "source": [
    "name='faith'\n",
    "print(name)"
   ]
  },
  {
   "cell_type": "code",
   "execution_count": null,
   "id": "a066e7de-4512-421e-914a-2c0b068313ac",
   "metadata": {},
   "outputs": [],
   "source": [
    "length=int(input('enter length'))\n",
    "width=int(input('enter width'))\n",
    "area=length*width\n",
    "perimeter=2*(length+width)\n",
    "print('Area is:',area)\n",
    "print('Perimeter is:',perimeter)"
   ]
  },
  {
   "cell_type": "code",
   "execution_count": null,
   "id": "51edd71d-a6be-47b1-b376-ace39284d4d6",
   "metadata": {},
   "outputs": [],
   "source": [
    "YOB=int(input('enter year of birth'))\n",
    "current=2024\n",
    "age=current-YOB\n",
    "print('Your age',age)\n",
    "if age>18:\n",
    "      print('adult')\n",
    "else:\n",
    "      print('child')"
   ]
  },
  {
   "cell_type": "code",
   "execution_count": null,
   "id": "207d3ec9-53a3-4154-9f6a-03dda2497732",
   "metadata": {},
   "outputs": [],
   "source": [
    "x=-5\n",
    "if x>0:\n",
    "    print('x is positive ')\n",
    "else:\n",
    "    print('x is not positive')\n"
   ]
  },
  {
   "cell_type": "code",
   "execution_count": null,
   "id": "f7c7d13c-cc68-4a07-a442-dc9131c2eeb9",
   "metadata": {},
   "outputs": [],
   "source": [
    "i=0\n",
    "while i<5:\n",
    "    print(i)\n",
    "    i+=1"
   ]
  },
  {
   "cell_type": "code",
   "execution_count": null,
   "id": "47ec478f-f3e5-4e29-ae2a-4160ba2409c3",
   "metadata": {},
   "outputs": [],
   "source": [
    "i=1\n",
    "while i<=10:\n",
    "    print(i)\n",
    "    i+=1\n"
   ]
  },
  {
   "cell_type": "code",
   "execution_count": null,
   "id": "877286b4-657f-4dfe-8b0b-ec83aeafd656",
   "metadata": {},
   "outputs": [],
   "source": [
    "import pandas as pd\n",
    "df=pd.read_csv('childhealthdata.csv')\n",
    "df.head()"
   ]
  },
  {
   "cell_type": "code",
   "execution_count": null,
   "id": "b23476c4-bac3-4e36-b08a-a74fd50b780e",
   "metadata": {},
   "outputs": [],
   "source": [
    "df.describe()"
   ]
  },
  {
   "cell_type": "code",
   "execution_count": null,
   "id": "c0bbe5b3-afcc-4d85-b88f-14f6f0b1230e",
   "metadata": {},
   "outputs": [],
   "source": [
    "df.info()"
   ]
  },
  {
   "cell_type": "code",
   "execution_count": null,
   "id": "cf25b429-2cd9-476b-823d-0e45ad61cbdf",
   "metadata": {},
   "outputs": [],
   "source": [
    "df.unique()"
   ]
  },
  {
   "cell_type": "code",
   "execution_count": null,
   "id": "891a7d34-138c-47cc-8f50-7dda7cb44dd1",
   "metadata": {},
   "outputs": [],
   "source": [
    "print(df['education'].unique())"
   ]
  },
  {
   "cell_type": "code",
   "execution_count": null,
   "id": "bbe6b98d-6322-4eec-b08e-e36d1436975b",
   "metadata": {},
   "outputs": [],
   "source": [
    "print(df['residence'].unique())"
   ]
  },
  {
   "cell_type": "code",
   "execution_count": null,
   "id": "9b42a41f-531d-443d-bb43-f10cf3b987d3",
   "metadata": {},
   "outputs": [],
   "source": [
    "print(df['education'].value_counts())"
   ]
  },
  {
   "cell_type": "code",
   "execution_count": null,
   "id": "a8f95c04-3308-48fc-b351-07abadfeef1d",
   "metadata": {},
   "outputs": [],
   "source": [
    "print(df['wealth_index'].value_counts())"
   ]
  },
  {
   "cell_type": "code",
   "execution_count": null,
   "id": "433065d0-9dca-44ce-b59c-877ab9b9229a",
   "metadata": {},
   "outputs": [],
   "source": [
    "import pandas as pd\n",
    "df=pd.read_csv('childhealthdata.csv')\n",
    "df.head()"
   ]
  },
  {
   "cell_type": "code",
   "execution_count": null,
   "id": "e9bebdc4-76c7-433f-a371-d9a9f7a551cc",
   "metadata": {},
   "outputs": [],
   "source": [
    "df.tail(5)"
   ]
  },
  {
   "cell_type": "code",
   "execution_count": null,
   "id": "d2dd7d09-dfea-46d6-b31d-cea41f5562ee",
   "metadata": {},
   "outputs": [],
   "source": [
    "df.tail(10)"
   ]
  },
  {
   "cell_type": "code",
   "execution_count": null,
   "id": "477360f0-3d77-402a-9e31-88366c6dd981",
   "metadata": {},
   "outputs": [],
   "source": [
    "df.head(10)"
   ]
  },
  {
   "cell_type": "code",
   "execution_count": null,
   "id": "25ea7f2b-1fb0-472b-8961-ab5eb24db837",
   "metadata": {},
   "outputs": [],
   "source": [
    "x=8\n",
    "if x>0:\n",
    "    print('x is positive')\n",
    "else:\n",
    "    print('x is not positive')"
   ]
  },
  {
   "cell_type": "code",
   "execution_count": null,
   "id": "b92f9ada-9346-403d-9365-10e5967528aa",
   "metadata": {},
   "outputs": [],
   "source": [
    "import pandas as pd\n",
    "df=pd.read_csv('childhealthdata.csv')\n",
    "df.head(8)"
   ]
  },
  {
   "cell_type": "code",
   "execution_count": null,
   "id": "efcd5795-3eec-469e-baa6-977b250dc9f4",
   "metadata": {},
   "outputs": [],
   "source": [
    "import pandas as pd\n",
    "df=pd.read_csv('childhealthdata.csv')\n",
    "df_above_30=df[df['age']>30]\n",
    "df_above_30.head()"
   ]
  },
  {
   "cell_type": "code",
   "execution_count": null,
   "id": "72107fa3-bc20-49d9-bd3a-0ac5c984fc76",
   "metadata": {},
   "outputs": [],
   "source": [
    "df_30_and_less=df[df['age']<=30]\n",
    "df_30_and_less.head()"
   ]
  },
  {
   "cell_type": "code",
   "execution_count": null,
   "id": "68c177bd-3461-4fb3-a23a-d3d9be7793c7",
   "metadata": {},
   "outputs": [],
   "source": [
    "df_18=df[(df['age']==18)&(df['Sex']=='Female')]\n",
    "df_18.head()"
   ]
  },
  {
   "cell_type": "code",
   "execution_count": null,
   "id": "127d5a6a-1c9b-426c-a9d7-61f029ae5357",
   "metadata": {},
   "outputs": [],
   "source": [
    "sorted_df=df.sort_values(by='age',ascending=False)\n",
    "sorted_df.head()"
   ]
  },
  {
   "cell_type": "code",
   "execution_count": null,
   "id": "69744809-32e8-4138-b12b-9c24b48418a4",
   "metadata": {},
   "outputs": [],
   "source": [
    "sorted_df=df.sort_values(by='age',ascending=True)\n",
    "sorted_df.head()"
   ]
  },
  {
   "cell_type": "code",
   "execution_count": null,
   "id": "4ec1e12f-7960-409c-bceb-daf7aa12a2ce",
   "metadata": {},
   "outputs": [],
   "source": [
    "df.groupby('Sex').size()"
   ]
  },
  {
   "cell_type": "code",
   "execution_count": null,
   "id": "bbfd9ef4-5cf5-4fcf-bbce-623a9488d84c",
   "metadata": {},
   "outputs": [],
   "source": [
    "df.loc[df['age']>=18,'is_adult']='Yes'\n",
    "df.loc[df['age']<18,'is_adult']='No'\n",
    "df.head()"
   ]
  },
  {
   "cell_type": "code",
   "execution_count": null,
   "id": "ea86b3c8-51b6-4a86-b53a-dff2b4bbff57",
   "metadata": {},
   "outputs": [],
   "source": [
    "df.drop_duplicates(inplace=True)"
   ]
  },
  {
   "cell_type": "code",
   "execution_count": null,
   "id": "6502cc64-77d8-400f-9d98-f51972a0f2dc",
   "metadata": {},
   "outputs": [],
   "source": [
    "df['Sex']=df['Sex'].str.upper()#orlower\n",
    "df.head()"
   ]
  },
  {
   "cell_type": "code",
   "execution_count": null,
   "id": "dcfe702c-5b9c-4299-8c1f-be0abedd8dc0",
   "metadata": {},
   "outputs": [],
   "source": [
    "df['Sex']"
   ]
  },
  {
   "cell_type": "code",
   "execution_count": null,
   "id": "2f03d4c1-b20d-4272-b730-ddf3ba2ba5de",
   "metadata": {},
   "outputs": [],
   "source": [
    "df.groupby('residence').size()"
   ]
  },
  {
   "cell_type": "code",
   "execution_count": null,
   "id": "0bb8377d-c406-4fc3-b58e-4a3e0194bb31",
   "metadata": {},
   "outputs": [],
   "source": [
    "sorted_df=df.sort_values(by='residence',ascending=True)\n",
    "sorted_df.head()"
   ]
  },
  {
   "cell_type": "code",
   "execution_count": null,
   "id": "3d0f3021-d2a4-43b8-8478-ba2bb8fecaff",
   "metadata": {},
   "outputs": [],
   "source": [
    "!pip install matplotlib"
   ]
  },
  {
   "cell_type": "code",
   "execution_count": null,
   "id": "d9c54ecb-2a4d-40cc-ba17-bf8b7badb679",
   "metadata": {},
   "outputs": [],
   "source": [
    "\n",
    "import matplotlib.pyplot as plt \n",
    "!pip install matplotlib\n"
   ]
  },
  {
   "cell_type": "code",
   "execution_count": null,
   "id": "9f6fe6fa-4f0f-4c8e-8b46-f39ab3497a30",
   "metadata": {},
   "outputs": [],
   "source": [
    "Data=pd.read_csv('childhealthdata.csv')\n",
    "Data.head()"
   ]
  },
  {
   "cell_type": "code",
   "execution_count": null,
   "id": "81779c20-0f7b-45ae-91a4-fbfe78f9b399",
   "metadata": {},
   "outputs": [],
   "source": [
    "Data.shape"
   ]
  },
  {
   "cell_type": "code",
   "execution_count": null,
   "id": "cc5ef1a5-3bf7-4a3d-8053-c5246783c935",
   "metadata": {},
   "outputs": [],
   "source": [
    "Data.tail()"
   ]
  },
  {
   "cell_type": "code",
   "execution_count": null,
   "id": "aef89298-d854-4f5f-b947-eaa79cfab598",
   "metadata": {
    "scrolled": true
   },
   "outputs": [],
   "source": [
    "Data.head()"
   ]
  },
  {
   "cell_type": "code",
   "execution_count": null,
   "id": "4bae99f6-8ab8-45de-9b97-ab4ea5237916",
   "metadata": {},
   "outputs": [],
   "source": [
    "Data.columns"
   ]
  },
  {
   "cell_type": "code",
   "execution_count": null,
   "id": "a6d32b41-6b61-4c55-a345-2e6718039d95",
   "metadata": {},
   "outputs": [],
   "source": [
    "import matplotlib.pyplot as plt\n",
    "gender_counts=Data['Sex'].value_counts()\n",
    "plt.figure(figsize=(8,6))\n",
    "plt.pie(gender_counts,labels=gender_counts.index,autopct='%1.1f%%',startangle=140)\n",
    "plt.title('Distribution by gender')\n",
    "plt.axis('equal')\n",
    "plt.show()\n"
   ]
  },
  {
   "cell_type": "code",
   "execution_count": null,
   "id": "663def23-8933-472a-bcee-210cf5696557",
   "metadata": {},
   "outputs": [],
   "source": [
    "education_counts=Data['education'].value_counts()\n",
    "plt.figure(figsize=(6,12))\n",
    "plt.bar(education_counts.index,education_counts.values,color='pink')\n",
    "plt.xlabel('education')\n",
    "plt.ylabel('Count')\n",
    "plt.title('Distribution by education')\n",
    "plt.xticks(rotation=45)#Rotate labels if needed for better readability\n",
    "plt.show()"
   ]
  },
  {
   "cell_type": "code",
   "execution_count": null,
   "id": "9aaa91c9-071b-4f33-b7c3-ddf6930c8391",
   "metadata": {},
   "outputs": [],
   "source": [
    "plt.figure(figsize=(10,6))\n",
    "plt.hist(Data['age'],bins=10,color='orange',edgecolor='brown')\n",
    "plt.title('Distribution of age')\n",
    "plt.xlabel('Age')\n",
    "plt.ylabel('Frequency')\n",
    "plt.show()"
   ]
  },
  {
   "cell_type": "code",
   "execution_count": null,
   "id": "93e4f1b4-2d90-4e0e-84dc-d9be59d43af4",
   "metadata": {},
   "outputs": [],
   "source": [
    "import pandas as pd\n",
    "data={'month':['January','February','March','April','May','June','July','August','September','October','November','December'],\n",
    "      'reported-cases':[90,80,70,75,90,85,80,100,90,85,100,140]}\n",
    "df=pd.DataFrame(data)\n",
    "plt.figure(figsize=(10,6))\n",
    "plt.plot(df['month'],df['reported_cases'],marker='o')\n",
    "plt.xlabel('month')\n",
    "ply.ylabel('Reported Cases Over Time')\n",
    "plt.grid(True)\n",
    "plt.xticks(rotation=45)\n",
    "plt.show()"
   ]
  },
  {
   "cell_type": "code",
   "execution_count": null,
   "id": "87d043a9-60df-4096-ae23-0195fc7f2c67",
   "metadata": {},
   "outputs": [],
   "source": [
    "\n",
    "m=[182,199,160,227,173,210,227,205,275,208,169,182]\n",
    "average_cholesterol_levels=sum(m)/12\n",
    "print(average_cholesterol_levels)"
   ]
  },
  {
   "cell_type": "code",
   "execution_count": null,
   "id": "faa04920-f6b3-4161-8ad2-aedfe801359f",
   "metadata": {},
   "outputs": [],
   "source": [
    "import numpy as np\n",
    "m=[182,199,160,227,173,210,227,205,275,208,169,182]\n",
    "mean_cholesterol=np.mean(m)\n",
    "print(mean_cholesterol)"
   ]
  },
  {
   "cell_type": "code",
   "execution_count": null,
   "id": "574bccf9-1534-4921-9d46-732a5ac4780d",
   "metadata": {},
   "outputs": [],
   "source": [
    "import pandas as pd\n",
    "df=pd.read_csv('childhealthdata.csv')"
   ]
  },
  {
   "cell_type": "code",
   "execution_count": null,
   "id": "1ad755d6-d007-4e7b-878a-ad999ad7cdf3",
   "metadata": {},
   "outputs": [],
   "source": [
    "df.tail(10)"
   ]
  },
  {
   "cell_type": "code",
   "execution_count": null,
   "id": "de268ca0-9e61-452d-850c-944a2318e8cf",
   "metadata": {},
   "outputs": [],
   "source": [
    "#import pandas as pd\n",
    "#from scipy import stats\n",
    "#from google colab import files\n",
    "#upload=files.upload()"
   ]
  },
  {
   "cell_type": "code",
   "execution_count": null,
   "id": "7542aa39-cdaf-4281-a382-cc84610208f7",
   "metadata": {},
   "outputs": [],
   "source": [
    "df=pd.read_csv('childhealthdata.csv')\n",
    "df.head()\n",
    "mean_weight=df['weight'].mean()\n",
    "print(mean_weight)"
   ]
  },
  {
   "cell_type": "code",
   "execution_count": null,
   "id": "5955eb13-ec57-4bac-ba0a-8096e4b86d78",
   "metadata": {},
   "outputs": [],
   "source": [
    "mean_weight=round(df['weight'].mean())\n",
    "print(mean_weight)"
   ]
  },
  {
   "cell_type": "code",
   "execution_count": null,
   "id": "b28c2e63-6997-40cd-b29e-edf68ca5973c",
   "metadata": {},
   "outputs": [],
   "source": [
    "mean_height=df['height'].mean()\n",
    "print(mean_height)"
   ]
  },
  {
   "cell_type": "code",
   "execution_count": null,
   "id": "bfc872bc-a3e3-4fc7-bb22-a425254585b1",
   "metadata": {},
   "outputs": [],
   "source": [
    "mean_height=round(df['height'].mean())\n",
    "print(mean_height)"
   ]
  },
  {
   "cell_type": "code",
   "execution_count": null,
   "id": "2a8a82f8-d872-44ab-9e20-5122c5075271",
   "metadata": {},
   "outputs": [],
   "source": [
    "median_weight=df['weight'].median()\n",
    "print(median_weight)"
   ]
  },
  {
   "cell_type": "code",
   "execution_count": null,
   "id": "9a1b7a43-1b20-4f88-935f-b2e0c9ec67bc",
   "metadata": {},
   "outputs": [],
   "source": [
    "median_height=df['height'].median()\n",
    "print(median_height)"
   ]
  },
  {
   "cell_type": "code",
   "execution_count": null,
   "id": "c00d5302-4584-48b9-ba1c-a4ea09486aa1",
   "metadata": {},
   "outputs": [],
   "source": [
    "n=[54,28,13,16,19,19,15,12,16,20]\n",
    "median_mass=np.median(n)\n",
    "print(median_mass)"
   ]
  },
  {
   "cell_type": "code",
   "execution_count": null,
   "id": "21ea2184-2c7d-442f-8492-abed326e22e5",
   "metadata": {},
   "outputs": [],
   "source": [
    "mode_n=stats.mode(n,keepdims=False).mode\n",
    "print(mode_n)"
   ]
  },
  {
   "cell_type": "code",
   "execution_count": null,
   "id": "698c1d11-0734-42bc-9360-3726d66afa03",
   "metadata": {},
   "outputs": [],
   "source": [
    "#calculate quatiles\n",
    "data=pd.read_csv('childhealthdata.csv')\n",
    "quantiles_25_75=data['weight'].quantile([0.25,0.75])\n",
    "print(quantiles_25_75)"
   ]
  },
  {
   "cell_type": "code",
   "execution_count": null,
   "id": "0269d8fc-f25c-406c-b8f3-276559bdd323",
   "metadata": {},
   "outputs": [],
   "source": [
    "#calculate quantiles\n",
    "data=pd.read_csv('childhealthdata.csv')\n",
    "quantile_30_80=data['weight'].quantile([0.3,0.8])\n",
    "print(quantile_30_80)"
   ]
  },
  {
   "cell_type": "code",
   "execution_count": null,
   "id": "f20f2463-dd9c-4044-8579-35fa2e64e472",
   "metadata": {},
   "outputs": [],
   "source": [
    "#calculate range\n",
    "data=pd.read_csv('childhealthdata.csv')\n",
    "weight_range=data['weight'].max()-data['weight'].min()\n",
    "print(weight_range)"
   ]
  },
  {
   "cell_type": "code",
   "execution_count": null,
   "id": "08bd6a27-891c-4de9-b48e-436f295ccb31",
   "metadata": {},
   "outputs": [],
   "source": [
    "#calculate interquartile range(iqr)\n",
    "iqr=data['weight'].quantile(0.75)-data['weight'].quantile(0.25)\n",
    "print(\"upper bound:\",data['weight'].quantile(0.75))\n",
    "print(\"lower bound:\",data['weight'].quantile(0.25))\n",
    "print(iqr)"
   ]
  },
  {
   "cell_type": "code",
   "execution_count": null,
   "id": "dfc45023-8806-4cd1-9bcf-e7c2e0d34e3c",
   "metadata": {},
   "outputs": [],
   "source": [
    "#calculate standard deviation of weight \n",
    "std_deviation_weight=data['weight'].std()\n",
    "print(std_deviation_weight)\n"
   ]
  },
  {
   "cell_type": "code",
   "execution_count": null,
   "id": "f6ea437c-1aee-40fa-a3f9-a744283cd438",
   "metadata": {},
   "outputs": [],
   "source": [
    "#calculate variance\n",
    "var_weight=data['weight'].var()\n",
    "print(var_weight)"
   ]
  },
  {
   "cell_type": "code",
   "execution_count": null,
   "id": "a485aaa1-2778-4641-8cb1-30aebb01bae0",
   "metadata": {},
   "outputs": [],
   "source": [
    "#calculate range \n",
    "data=pd.read_csv('childhealthdata.csv')\n",
    "height_range=data['height'].max()-data['height'].min()\n",
    "print(height_range)"
   ]
  },
  {
   "cell_type": "code",
   "execution_count": null,
   "id": "57a06516-d575-48a2-90b3-f0f5487dacd2",
   "metadata": {},
   "outputs": [],
   "source": [
    "data=pd.read_csv('childhealthdata.csv')\n",
    "maximum_range=data['height'].max()\n",
    "minimum_range=data['height'].min()\n",
    "print(maximum_range)\n",
    "print(minimum_range)"
   ]
  },
  {
   "cell_type": "code",
   "execution_count": null,
   "id": "68424bc8-797b-46a7-9dbd-f58e803e194f",
   "metadata": {},
   "outputs": [],
   "source": [
    "from scipy.stats import skew \n",
    "#determine measure to report based on skewness\n",
    "skew_wt=skew(data['weight'])\n",
    "wt_measure=\"mean\"if abs(skew_wt)<=0.5 else\"Median\"\n",
    "print(wt_measure)"
   ]
  },
  {
   "cell_type": "code",
   "execution_count": null,
   "id": "96602228-8776-4a27-8479-9e43784b654f",
   "metadata": {},
   "outputs": [],
   "source": [
    "skewness_weight=skew(data['weight'])\n",
    "print(skewness_weight)"
   ]
  },
  {
   "cell_type": "code",
   "execution_count": null,
   "id": "dcaec086-9a10-41bd-9c72-5bc51717be95",
   "metadata": {},
   "outputs": [],
   "source": [
    "mean_weight=data['weight'].mean()\n",
    "std_deviation_weight=data['weight'].std()\n",
    "print(mean_weight)\n",
    "print(std_deviation_weight)"
   ]
  },
  {
   "cell_type": "code",
   "execution_count": null,
   "id": "ce941314-69ff-4682-84d9-1945484e864e",
   "metadata": {},
   "outputs": [],
   "source": [
    "import pandas as pd \n",
    "data={'integers':[3,5,7,10,12]}\n",
    "df=pd.DataFrame(data)\n",
    "df['range']=df['integers'].apply(lambda X:range(X))\n",
    "print(df)"
   ]
  },
  {
   "cell_type": "code",
   "execution_count": null,
   "id": "a2c24a96-d3bd-449f-a90d-8eb711a25898",
   "metadata": {},
   "outputs": [],
   "source": [
    "import pandas as pd\n",
    "import numpy as np\n",
    "df=pd.read_csv(\"dirtybmi_22.csv\")\n",
    "#custom mapping for conversion\n",
    "mapping={'True':1,'False':0,'Female':1,'Male':0}\n",
    "#applying the mapping to the column\n",
    "df['Gender']=df ['Gender'].map(mapping)\n",
    "print(df)"
   ]
  },
  {
   "cell_type": "code",
   "execution_count": null,
   "id": "10918274-d0d9-4543-a601-f9e0260690ae",
   "metadata": {},
   "outputs": [],
   "source": [
    "import pandas as pd\n",
    "import numpy as np\n",
    "df1=pd.read_csv(\"dirtybmi_22.csv\")\n",
    "df1['Gender']=df1['Gender'].astype('category')\n",
    "df1['Height']=df1['Height'].astype('string')\n",
    "df1['Weight']=df1['Weight'].astype('string')\n",
    "df1['Index']=df1['Index'].astype('int')\n",
    "df1['female']=df1['female'].astype('category')\n",
    "df1['male']=df1['male'].astype('category')\n",
    "df1.info()"
   ]
  },
  {
   "cell_type": "code",
   "execution_count": null,
   "id": "51ab22b0-fc57-40c8-b9b4-caf170118e2f",
   "metadata": {},
   "outputs": [],
   "source": [
    "import pandas as pd\n",
    "data={\n",
    "    'Name': [' Rose','Jane ','Charlie', ' Faith  '],\n",
    "    'City': [' Makueni', 'Kwavonza ',' Kitui','Mselele ',]\n",
    "}\n",
    "df=pd.DataFrame(data)\n",
    "print(\"Original DataFrame:\")\n",
    "print(df)"
   ]
  },
  {
   "cell_type": "code",
   "execution_count": null,
   "id": "97c9f338-e682-4ae6-86e6-869b4ff3b4f0",
   "metadata": {},
   "outputs": [],
   "source": [
    "\n",
    "df['Name']=df['Name'].str.strip()\n",
    "df['City']=df['City'].str.strip()\n",
    "print(\"\\nTrimmed DataFrame:\")\n",
    "print(df)\n"
   ]
  },
  {
   "cell_type": "code",
   "execution_count": null,
   "id": "a36798fe-b53d-4e9b-9a02-7916489cb1af",
   "metadata": {},
   "outputs": [],
   "source": [
    "import pandas as pd \n",
    "from scipy import stats\n",
    "csv_file='childhealthdata.csv'\n",
    "df=pd.read_csv(csv_file)\n",
    "\n",
    "height_min,height_max=50,110\n",
    "weight_min,weight_max=4,20\n",
    "\n",
    "out_of_range_height=df[(df['height']<height_min)|(df['height']>height_max)]\n",
    "out_of_range_weight=df[(df['weight']<weight_min)|(df['weight']>weight_max)]\n",
    "\n",
    "print(\"\\nRows with out-of-range 'height':\")\n",
    "print(out_of_range_height)\n",
    "\n",
    "print(\"\\nRows with out-of-range'weight':\")\n",
    "print(out_of_range_weight)"
   ]
  },
  {
   "cell_type": "code",
   "execution_count": null,
   "id": "098c0e0b-18cf-4b3f-94e7-1ebb85bf81fb",
   "metadata": {},
   "outputs": [],
   "source": [
    "import pandas as pd \n",
    "from scipy import stats\n",
    "df=pd.read_csv('dirtybmi_22.csv')\n",
    "duplicates=df.duplicated()\n",
    "print(duplicates)"
   ]
  },
  {
   "cell_type": "code",
   "execution_count": null,
   "id": "32a2d56d-7044-4073-ac3b-965bc79ed820",
   "metadata": {},
   "outputs": [],
   "source": [
    "df.drop_duplicates\n",
    "clean=df.drop_duplicates\n",
    "print(clean)"
   ]
  },
  {
   "cell_type": "code",
   "execution_count": null,
   "id": "a51fe857-cd45-4426-83d6-2de85b37999f",
   "metadata": {},
   "outputs": [],
   "source": [
    "import pandas as pd\n",
    "df=pd.read_csv('dirtybmi_22.csv')\n",
    "df.head(10)"
   ]
  },
  {
   "cell_type": "code",
   "execution_count": null,
   "id": "7498b80a-2b71-4738-abed-8e7f6d317440",
   "metadata": {},
   "outputs": [],
   "source": [
    "df['Gender']=df['Gender'].str.strip()\n",
    "df['Height']=df['Height'].str.strip()\n",
    "df['Weight']=df['Weight'].str.strip()\n",
    "print(\"Trimmed DataFrame:\")\n",
    "print(df)\n"
   ]
  },
  {
   "cell_type": "code",
   "execution_count": null,
   "id": "8ae8ca1a-c3d1-444f-a045-524b3e12cb1e",
   "metadata": {},
   "outputs": [],
   "source": [
    "import pandas as pd\n",
    "#sample health data\n",
    "data={\n",
    "    'Patient ID':[1, 2, 3, 4],\n",
    "    'Name':['Alice', 'Bob', 'Charlie','David'],\n",
    "    'Gender':['Female', 'Male', 'Others', 'Unknown'],  #unknown is invalid \n",
    "    ' Blood Type': ['A+', 'B-', 'O+', 'AB-'],\n",
    "    'Diagnosis Code': ['A00', 'B99', 'C30', 'XYZ']\n",
    "}\n",
    "df=pd.DataFrame(data)\n",
    "df.head()"
   ]
  },
  {
   "cell_type": "code",
   "execution_count": null,
   "id": "f1a60f59-49ea-44be-8f36-3da92564462a",
   "metadata": {},
   "outputs": [],
   "source": [
    "import pandas as pd\n",
    "#sample health data\n",
    "data={\n",
    "    'Patient ID':[1, 2, 3, 4],\n",
    "    'Name':['Alice', 'Bob', 'Charlie','David'],\n",
    "    'Gender':['Female', 'Male', 'Others', 'Unknown'],  #unknown is invalid \n",
    "    ' Blood Type': ['A+', 'B-', 'O+', 'AB-'],\n",
    "    'Diagnosis Code': ['A00', 'B99', 'C30', 'XYZ']\n",
    "}\n",
    "df=pd.DataFrame(data)\n",
    "#Define valid values for each field\n",
    "valid_genders={'Male', 'Female', 'Others'}\n",
    "valid_blood_types={'A+', 'A-', 'B+', 'B-', 'O+', 'O-', 'AB+', 'AB-'}\n",
    "valid_diagnosis_codes={'A00', 'B99', 'C30'}#example ICD-10 codes\n",
    "df.head()"
   ]
  },
  {
   "cell_type": "code",
   "execution_count": null,
   "id": "3236cd2f-24f1-48bc-99af-c6026fcc7539",
   "metadata": {},
   "outputs": [],
   "source": [
    "#Custom function to check membership constraints\n",
    "def check_membership(value, valid_set):\n",
    "    if value not in valid_set:\n",
    "        return False\n",
    "    return True\n",
    "\n",
    "def validate_health_data(df):\n",
    "    invalid_rows=[]\n",
    "    for index, row in df.interrows():\n",
    "        errors={}\n",
    "        if not check_membership(row['Gender'],valid_genders):\n",
    "            errors['Gender']=row['Gender']\n",
    "        if not check_membership(row['Blood Type'],valid_blood_type):\n",
    "            errors['Blood Type']=row['Blood Type']\n",
    "        if not check_membership(row['Diagnosis Code'], valid_diagnosis_codes):\n",
    "            errors['Diagnosis Code']=row['Diagnosis Code']\n",
    " df_cleaned = df.drop(index=[entry['Index'] for entry in invalid_entries])\n",
    "print(df_cleaned)"
   ]
  },
  {
   "cell_type": "code",
   "execution_count": null,
   "id": "85291e53-ab61-4980-b35d-7760eb2d7728",
   "metadata": {},
   "outputs": [],
   "source": [
    "for entry in invalid_entries:\n",
    "    for field in entry['errors']:\n",
    "        if field=='Gender':\n",
    "            df.at[entry['index'],field] ='Others'\n",
    "elif field=='Diagnosis Code':\n",
    "print(\"\\nCleaned DataFrame:\")\n",
    "print(df_cleaned)"
   ]
  },
  {
   "cell_type": "code",
   "execution_count": null,
   "id": "6ae3134d-0769-4195-9f6e-11d5fff96575",
   "metadata": {},
   "outputs": [],
   "source": [
    "import pandas as pd\n",
    "data={\n",
    "    'EmployeeID':[1,2,3,4,5,6,7],\n",
    "    'Name':['Alice','Bob','Charlie','David','Chepkoech','Wanagari','Nyakio'],\n",
    "    'Age':[30,25,40,22,20,27,40],\n",
    "    'Years_of_Experience':[5,27,15,1,25,7,6]\n",
    "}\n",
    "df=pd.DataFrame(data)\n",
    "def validate_experience(row):\n",
    "    if row['Years_of_Experience']>row['Age']:\n",
    "        return False\n",
    "    return True\n",
    "df['Is_Valid']=df.apply(validate_experience,axis=1)\n",
    "\n",
    "invalid_rows=df[df['Is_Valid']==False]\n",
    "\n",
    "print(\"Invalid Rows:\")\n",
    "print(invalid_rows)"
   ]
  },
  {
   "cell_type": "code",
   "execution_count": null,
   "id": "60d0f171-4ed0-49ae-8734-3ebc267ded2a",
   "metadata": {},
   "outputs": [],
   "source": [
    "import pandas as pd\n",
    "data={\n",
    "    'Start Date':['2023-01-01','2023-02-01','2023-03-01'],\n",
    "    'End Date':['2023-01-10','2023-01-05','2023-04-01']\n",
    "}\n",
    "df=pd.DataFrame(data)\n",
    "df['Start Date']=pd.to_datetime(df['Start Date'])\n",
    "df['End Date']=pd.to_datetime(df['End Date'])"
   ]
  },
  {
   "cell_type": "code",
   "execution_count": null,
   "id": "67ef4848-9183-4b35-86f2-69155549b1cf",
   "metadata": {},
   "outputs": [],
   "source": [
    "df['Valid']=df['Start Date']<df['End Date']\n",
    "print(df)"
   ]
  },
  {
   "cell_type": "code",
   "execution_count": null,
   "id": "d28b8c26-f200-4a7d-9a11-d71d094ef258",
   "metadata": {},
   "outputs": [],
   "source": [
    "df['Valid']=df['Start Date']<df['End Date']\n",
    "print(df)\n",
    "invalid_rows=df[~df['Valid']]\n",
    "if not invalid_rows.empty:\n",
    "    print(\"invalid rows found:\")\n",
    "    print(invalid_rows)\n",
    "else:\n",
    "    print(\"All rows are valid.\")"
   ]
  },
  {
   "cell_type": "code",
   "execution_count": null,
   "id": "75178a2e-00fb-483f-bc8e-80a667fb4ccb",
   "metadata": {},
   "outputs": [],
   "source": [
    "import pandas as pd\n",
    "df=pd.read_csv('dirtybmi_22.csv')\n",
    "df.head()"
   ]
  },
  {
   "cell_type": "code",
   "execution_count": null,
   "id": "e89ef663-605d-4432-b827-f1249f28e61b",
   "metadata": {},
   "outputs": [],
   "source": [
    "import pandas as pd\n",
    "df=pd.read_csv('dirtybmi_22.csv')\n",
    "def validate_Height(row):\n",
    "    if row[\"Height\"]>row['Weight']:\n",
    "       return False\n",
    "       return True\n",
    "df['is_valid']=df.apply(validate_Height,axis=1)\n",
    "Invalid_row=df[df['is_valid']==False]\n",
    "print(\"Invalid Rows\")\n",
    "print(Invalid_row)"
   ]
  },
  {
   "cell_type": "code",
   "execution_count": null,
   "id": "d96e8ed7-b70a-4328-a6aa-930f8b90e127",
   "metadata": {},
   "outputs": [],
   "source": [
    "import pandas as pd\n",
    "import numpy as np\n",
    "data={\n",
    "    'A':[1,2,np.nan,4,5],\n",
    "    'B':[5,np.nan,np.nan,8,10],\n",
    "    'C':[np.nan,2,3,4,np.nan],\n",
    "    'D':['dog','cat',np.nan,'mouse','rabbit']\n",
    "}"
   ]
  },
  {
   "cell_type": "code",
   "execution_count": null,
   "id": "148b7f19-d820-4cb6-b9ca-a81ffcbba34d",
   "metadata": {},
   "outputs": [],
   "source": [
    "df=pd.DataFrame(data)\n",
    "print(\"Original DataFrame:\")\n",
    "print(df)"
   ]
  },
  {
   "cell_type": "code",
   "execution_count": null,
   "id": "ae09d6f9-6915-46dc-a6d1-0d66f339a186",
   "metadata": {},
   "outputs": [],
   "source": [
    "print(\"nDetect missing values:\")\n",
    "print(df.isnull())\n",
    "df_dropna=df.dropna()\n",
    "print(\"\\nDataFrame after dropping rows with any missing values:\")"
   ]
  },
  {
   "cell_type": "code",
   "execution_count": null,
   "id": "fa232506-beaa-44f2-a19d-3d1e9375f284",
   "metadata": {},
   "outputs": [],
   "source": [
    "df_dropna=df.dropna()\n",
    "print(\"\\nDataFrame after dropping rows with any missing values:\")\n",
    "print(df_dropna)"
   ]
  },
  {
   "cell_type": "code",
   "execution_count": null,
   "id": "647a928d-e227-48ad-ae5f-cadc4f0bea32",
   "metadata": {},
   "outputs": [],
   "source": [
    "df_dropna_subset=df.dropna(subset=['A','B'])\n",
    "print(\"\\nDataFrame after dropping rows with missing values in columns 'A'or'B':\")\n",
    "print(df_dropna_subset)"
   ]
  },
  {
   "cell_type": "code",
   "execution_count": null,
   "id": "53c92365-3c45-410f-b4d9-da836efb6f24",
   "metadata": {},
   "outputs": [],
   "source": [
    "df_fillna=df.fillna(0)\n",
    "print(\"\\nDataFrame after filling missing values with O:\")\n",
    "print(df_fillna)"
   ]
  },
  {
   "cell_type": "code",
   "execution_count": null,
   "id": "d60f2bcc-b97d-456f-9f16-3b541f1671fd",
   "metadata": {},
   "outputs": [],
   "source": [
    "df_fillna_mean=df.fillna(df.mean(numeric_only=True))\n",
    "print(\"\\nDataFrame after filling missing values with column mean:\")\n",
    "print(df_fillna_mean)"
   ]
  },
  {
   "cell_type": "code",
   "execution_count": null,
   "id": "a90ce3d8-17de-4d5a-a930-f169c7d54fba",
   "metadata": {},
   "outputs": [],
   "source": [
    "df_ffill=df.ffill()\n",
    "print(\"nDataFrame after forward fill:\")\n",
    "print(df_ffill)"
   ]
  },
  {
   "cell_type": "code",
   "execution_count": null,
   "id": "9c6d0f34-f719-4115-b6e9-3287793d7296",
   "metadata": {},
   "outputs": [],
   "source": [
    "df_interpolate=df.interpolate\n",
    "print(\"\\DataFrame after interpolation:\")\n",
    "print(df_interpolate)"
   ]
  },
  {
   "cell_type": "code",
   "execution_count": null,
   "id": "0fb23db0-59e0-4003-9ad0-4f99f60b74b8",
   "metadata": {},
   "outputs": [],
   "source": [
    "import pandas as pd\n",
    "import numpy as np\n",
    "import matplotlib.pyplot as plt\n",
    "import seaborn as sns\n",
    "\n",
    "df=pd.read_csv('nhanesr.csv')\n",
    "df.head()"
   ]
  },
  {
   "cell_type": "code",
   "execution_count": null,
   "id": "371206a7-d57c-4564-a38a-b410a2e63c76",
   "metadata": {},
   "outputs": [],
   "source": [
    "nhanesr=df['Education'].value_counts\n",
    "print(nhanesr)"
   ]
  },
  {
   "cell_type": "code",
   "execution_count": null,
   "id": "40a774a7-dad7-452e-a0ee-ad3a7cf0a30e",
   "metadata": {},
   "outputs": [],
   "source": [
    "freq_table=pd.crosstab(df['Education'],'Frequency')\n",
    "print(freq_table)"
   ]
  },
  {
   "cell_type": "code",
   "execution_count": null,
   "id": "a1b76f41-54ae-4a16-a0d6-75d65989cee7",
   "metadata": {},
   "outputs": [],
   "source": [
    "import pandas as pd\n",
    "freq_table=pd.crosstab(df['MaritalStatus'],'Frequency')\n",
    "print(freq_table)"
   ]
  },
  {
   "cell_type": "code",
   "execution_count": null,
   "id": "f9722780-7710-4068-a151-1bef0d178c6b",
   "metadata": {},
   "outputs": [],
   "source": [
    "freq_table=pd.crosstab(df['Gender'],'Frequency')\n",
    "print(freq_table)"
   ]
  },
  {
   "cell_type": "code",
   "execution_count": null,
   "id": "37db5f7d-fce6-437c-909c-8b2e73531640",
   "metadata": {},
   "outputs": [],
   "source": [
    "#import packages\n",
    "import pandas as pd \n",
    "import numpy as np\n",
    "data=pd.read_csv('nhanesr.csv')\n",
    "freq_table=pd.crosstab(data['Education'],\n",
    "data['HHIncome'])\n",
    "print(freq_table)"
   ]
  },
  {
   "cell_type": "code",
   "execution_count": null,
   "id": "eee6cdc1-3dcf-4bd3-ba73-f83079549be1",
   "metadata": {},
   "outputs": [],
   "source": [
    "import matplotlib.pyplot as plt\n",
    "freq_table=pd.crosstab(df['MaritalStatus'],\n",
    "df['PhysActive'])\n",
    "print(freq_table)"
   ]
  },
  {
   "cell_type": "code",
   "execution_count": null,
   "id": "d50e9fa2-062f-4cfb-a028-8095a4189819",
   "metadata": {},
   "outputs": [],
   "source": [
    "import matplotlib.pyplot as plt\n",
    "\n",
    "x=[10,50,30,20]\n",
    "diseases=['Cholera','Malaria','TB','HIV']\n",
    "plt.pie(x,labels=diseases,autopct='%.1f%%')"
   ]
  },
  {
   "cell_type": "code",
   "execution_count": null,
   "id": "5a0efc91-a201-4e35-a5cd-397ad47563e5",
   "metadata": {},
   "outputs": [],
   "source": [
    "import numpy as np\n",
    "import matplotlib.pyplot as plt\n",
    "data={'C':20,'C++':15,'Java':30,'Python':35}\n",
    "courses=list(data.keys())\n",
    "values=list(data.values())\n",
    "fig=plt.figure(figsize=(10,5))\n",
    "plt.bar(courses,values,color='gold',width=0.4)\n",
    "plt.xlabel(\"Courses offered\")\n",
    "plt.ylabel(\"No.of students enrolled\")\n",
    "plt.title(\"Students enrolled in different courses\")\n",
    "plt.show()"
   ]
  },
  {
   "cell_type": "code",
   "execution_count": null,
   "id": "afd6fe52-c60b-40fb-a7be-9909916f5221",
   "metadata": {},
   "outputs": [],
   "source": [
    "plt.barh(courses,values,color='indigo')\n",
    "plt.show()"
   ]
  },
  {
   "cell_type": "code",
   "execution_count": null,
   "id": "16446531-f9bb-4146-9d3e-1d20aa0e29b7",
   "metadata": {},
   "outputs": [],
   "source": [
    "import matplotlib.pyplot as plt\n",
    "x=['A','B','C','D']\n",
    "y1=[10,20,10,30]\n",
    "y2=[20,25,15,25]\n",
    "plt.bar(x,y1,color='gold')\n",
    "plt.bar(x,y2,bottom=y1,color='indigo')"
   ]
  },
  {
   "cell_type": "code",
   "execution_count": null,
   "id": "1a1595d9-e371-41d6-9c1f-27c50e97009d",
   "metadata": {},
   "outputs": [],
   "source": [
    "import pandas as pd \n",
    "import numpy as np\n",
    "import matplotlib.pyplot as plt\n",
    "import seaborn as sns\n",
    "from statsmodels.graphics.mosaicplot import mosaic\n",
    "df=pd.read_csv('nhanesr.csv')\n",
    "age_directChol=df[['Age','DirectChol']]\n",
    "filtered_data=df[df['Age']>40]\n",
    "plt.scatter(filtered_data['Age'],filtered_data['DirectChol'],color='gold')\n",
    "plt.title('Age vs.DirectChol Level (Age>40)')\n",
    "plt.xlabel('Age (years)')\n",
    "plt.ylabel('DirectChol level (mg/dL)')"
   ]
  },
  {
   "cell_type": "code",
   "execution_count": null,
   "id": "264fd83e-bc56-4ddd-9e9f-34e19f20826a",
   "metadata": {},
   "outputs": [],
   "source": [
    "work_categories=data['Work'].cat.categories\n",
    "fig,axes=plt.subplots(nrows=len(work_categories),\n",
    "nCols=1,figsize=(10,15),sharex=True)\n",
    "for ax, category in zip(axes,work_categories):\n",
    "    sns.histplot(data[data['Work']==category]['BMI'],\n",
    "bins=20, ax=ax)\n",
    "    ax.set_title(f'Distribution of BMI for {category}')\n",
    "plt.tight_layout()\n",
    "plt.show()\n"
   ]
  },
  {
   "cell_type": "code",
   "execution_count": null,
   "id": "a5a55b54-43d9-42df-924a-df50723d9dea",
   "metadata": {},
   "outputs": [],
   "source": [
    "import seaborn as sns\n",
    "sns.boxplot(x='HHIncome', y='BMI',data=data)\n",
    "plt.title('Boxplots of HHIncome by BMI')\n",
    "plt.xticks(rotation=45)\n",
    "plt.show()"
   ]
  },
  {
   "cell_type": "code",
   "execution_count": null,
   "id": "6628fc08-14f8-4349-b3b6-bfc172dff731",
   "metadata": {},
   "outputs": [],
   "source": [
    "import matplotlib.pyplot as pltplt.figure(figsize=(12,8))\n",
    "sns.kdeplot(data=data,x='BMI',hue='Work',\n",
    "multiple='stack')\n",
    "plt.title('KDE Plot of BMI by Work Type')\n",
    "plt.xlabel('BMI')\n",
    "plt.ylabel('Density')\n",
    "plt.show()"
   ]
  },
  {
   "cell_type": "code",
   "execution_count": null,
   "id": "6dd120cd-8325-4578-917c-f78acdc204f4",
   "metadata": {},
   "outputs": [],
   "source": [
    "S=[(\"girl\",\"girl\"),(\"boy\",\"boy\"),\n",
    "   (\"boy\",\"girl\"),(\"girl\",\"boy\")]\n",
    "E=[(\"boy\",\"boy\"),(\"boy\",\"girl\"),\n",
    "   (\"girl\",\"boy\")]\n",
    "Pr =len(E)/len(S)\n",
    "print (Pr)"
   ]
  },
  {
   "cell_type": "markdown",
   "id": "bc3b078b-a65c-401b-b9cc-cf2e8a16da83",
   "metadata": {},
   "source": [
    "                                                                                                                                                                                                                                                                                                                                                                                                                                                                                                                                                                                                                                                                                                                                                                                                                                                                                                                                                                                                                                                                                                                                            "
   ]
  },
  {
   "cell_type": "code",
   "execution_count": null,
   "id": "c5ba3797-78fe-45ce-a7fc-137cdbfc9b1a",
   "metadata": {},
   "outputs": [],
   "source": [
    "import pandas as pd \n",
    "tab=pd.DataFrame({'Fracture yes':\n",
    "                 [27,15,9],'Fracture no':[63,35,21]})\n",
    "prA= (tab.iloc[2,0]+ tab.iloc[2,1])/tab.values.sum()\n",
    "prB=(tab.iloc[0,0]+tab.iloc[0,1])/tab.values.sum()\n",
    "print(prA+prB)\n",
    "print(round(prA+prB,2))"
   ]
  },
  {
   "cell_type": "code",
   "execution_count": null,
   "id": "d46d9d58-e170-4610-a136-bef5843eddb0",
   "metadata": {},
   "outputs": [],
   "source": [
    "prA=(tab.iloc[2,0]+tab.iloc[2,1])/tab.values.sum()\n",
    "prF=(tab.iloc[0,0]+tab.iloc[1,0]+tab.iloc[2,0])/tab.values.sum()\n",
    "prAF=tab.iloc[2,0]/tab.values.sum()\n",
    "print(prA*prF)"
   ]
  },
  {
   "cell_type": "code",
   "execution_count": null,
   "id": "e8f321a8-8210-485f-80e9-e2389630f46d",
   "metadata": {},
   "outputs": [],
   "source": [
    "tabs=pd.DataFrame({'MI yes':[75,20],'MI no':[95,210]})\n",
    "prA=(tabs.iloc[0,0]+tabs.iloc[0,1])/tabs.values.sum()\n",
    "print(round(prA,2))"
   ]
  },
  {
   "cell_type": "code",
   "execution_count": null,
   "id": "3cb8b2a9-4d16-4029-90e0-de648cad22ff",
   "metadata": {},
   "outputs": [],
   "source": [
    "prB=(tabs.iloc[0,0]+tabs.iloc[1,0])/tabs.values.sum()\n",
    "complementB=1-prB\n",
    "print(round(complementB,2))"
   ]
  },
  {
   "cell_type": "code",
   "execution_count": null,
   "id": "9d02c425-b372-4042-8d77-c7218a5a1e49",
   "metadata": {},
   "outputs": [],
   "source": [
    "prA=(tabs.iloc[0,0]+tabs.iloc[0,1])/tabs.values.sum()\n",
    "prB=(tabs.iloc[0,0]+tabs.iloc[1,0])/tabs.values.sum()\n",
    "prAB=tabs.iloc[0,0]/tabs.values.sum()\n",
    "result=prA+prB-prAB\n",
    "print(round(result,2))"
   ]
  },
  {
   "cell_type": "code",
   "execution_count": null,
   "id": "5f73e2e2-563f-42a6-a0e8-e3341e4e2823",
   "metadata": {},
   "outputs": [],
   "source": [
    "import pandas as pd\n",
    "import matplotlib.pyplot as plt\n",
    "from statsmodels.graphics.mosaicplot import mosaic\n",
    "\n",
    "df=pd.read_csv('nhanesr.csv')\n",
    "df['Age']=pd.cut(df['Age'],bins=[0,18,35,50,65,100],labels=['0-18','19-35','36-50','51-65','66+'])\n",
    "df['BMI']=pd.cut(df['BMI'],bins=[0,18.5,24.9,29.9,40],labels=['Underweight','Normal','Overweight','Obese'])\n",
    "df['Gender']=df['Gender'].astype('category')\n",
    "plt.figure(figsize=(15,7))\n",
    "mosaic(df,['Gender','Age','BMI'],title='Mosaic Plot of Gender,Age and BMI')\n",
    "plt.show()"
   ]
  },
  {
   "cell_type": "code",
   "execution_count": null,
   "id": "7d7f5866-c7fa-4e37-9dbf-e07cd4bf7bf2",
   "metadata": {},
   "outputs": [],
   "source": [
    "import pandas as pd \n",
    "import matplotlib.pyplot as plt\n",
    "import seaborn as sns\n",
    "df=pd.read_csv('nhanesr.csv')\n",
    "df['Work']=df['Work'].astype('category')\n",
    "work_categories=df['Work'].cat.categories\n",
    "fig, axes =plt.subplots(nrows=len(work_categories),ncols=1,figsize=(10,15),sharex=True)\n",
    "for ax,category in zip(axes,work_categories):\n",
    "    sns.histplot(df[df['Work']==category]['BMI'],bins=20,ax=ax)\n",
    "    ax.set_title(f'Distribution of BMI for {category}')\n",
    "plt.tight_layout()\n",
    "plt.show()"
   ]
  },
  {
   "cell_type": "code",
   "execution_count": null,
   "id": "f13b83c9-20e5-4987-ade0-826994665a63",
   "metadata": {},
   "outputs": [],
   "source": [
    "mam=pd.DataFrame({'Disease yes':\n",
    "[398,60],'Disease no':[2749,31799]})\n",
    "sen=mam.iloc[0,0]/(mam.iloc[0,0]+mam.iloc[1,0])\n",
    "print(round(sen*100,2))"
   ]
  },
  {
   "cell_type": "code",
   "execution_count": null,
   "id": "6cb9b00c-2f8b-47b1-a720-cb3e68b0764b",
   "metadata": {},
   "outputs": [],
   "source": [
    "df.head()"
   ]
  },
  {
   "cell_type": "code",
   "execution_count": null,
   "id": "3dd160a8-9fe2-489f-a6cc-3aa57b7f9d7d",
   "metadata": {},
   "outputs": [],
   "source": [
    "import pandas as pd \n",
    "import matplotlib.pyplot as plt\n",
    "import seaborn as sns\n",
    "sns.set_style('whitegrid')\n",
    "df=pd.read_csv('nhanesr.csv')\n",
    "df.head\n",
    "g=sns.catplot(\n",
    "    data=df,\n",
    "    x='Education',\n",
    "    col='HHIncome',\n",
    "    kind='count',\n",
    "    height=4,\n",
    "    aspect=1,\n",
    "    col_wrap=3\n",
    ")\n",
    "g.set_axis_labels('Physical Activity','Count')\n",
    "g.set_titles('Income Level:{col_name}')\n",
    "g.tight_layout()\n",
    "plt.show()"
   ]
  },
  {
   "cell_type": "code",
   "execution_count": null,
   "id": "e0e92975-6be7-45d9-9800-7910a7fbc45e",
   "metadata": {},
   "outputs": [],
   "source": [
    "from scipy import stats\n",
    "stats.binom.pmf(0,10,0.2)"
   ]
  },
  {
   "cell_type": "code",
   "execution_count": null,
   "id": "b8191507-79a7-4964-a4f3-774eebdea94f",
   "metadata": {},
   "outputs": [],
   "source": [
    "stats.binom.pmf(3,10,0.2)"
   ]
  },
  {
   "cell_type": "code",
   "execution_count": null,
   "id": "5b0e6d5d-63e0-43f3-a5f4-a1f7a363730e",
   "metadata": {},
   "outputs": [],
   "source": [
    "stats.binom.pmf(10,10,0.2)"
   ]
  },
  {
   "cell_type": "code",
   "execution_count": null,
   "id": "720999df-b7cf-4e9c-9598-24d4411f201e",
   "metadata": {},
   "outputs": [],
   "source": [
    "stats.binom.pmf([0,1,2,3,4,5,6,7,8,9,10,12,11,13,14,15],15,0.7)"
   ]
  },
  {
   "cell_type": "code",
   "execution_count": null,
   "id": "806e70de-14c7-4760-a681-9f1455d3bfc6",
   "metadata": {},
   "outputs": [],
   "source": [
    "import numpy as np\n",
    "import pandas as pd\n",
    "from scipy.stats import binom\n",
    "cx=np.arange(0,11)\n",
    "dx=binom.pmf(cx,10,0.7)\n",
    "pr_dist=pd.DataFrame({'E':cx,'Prob(E)':dx})\n",
    "print(pr_dist)\n"
   ]
  },
  {
   "cell_type": "code",
   "execution_count": null,
   "id": "18d05e0d-b642-4aff-83c8-8ac108c3b287",
   "metadata": {},
   "outputs": [],
   "source": [
    "stats.binom.pmf(4,12,0.22)"
   ]
  },
  {
   "cell_type": "code",
   "execution_count": null,
   "id": "e2e23d69-7860-4b3f-aa85-fb9d32bee0ba",
   "metadata": {},
   "outputs": [],
   "source": [
    "stats.binom.pmf(5,12,0.22)"
   ]
  },
  {
   "cell_type": "code",
   "execution_count": null,
   "id": "cc95c4e1-377b-49a4-ae45-d5b718c8f9b4",
   "metadata": {},
   "outputs": [],
   "source": [
    "cumulative_probability=binom.cdf(5,12,0.22)\n",
    "print(cumulative_probability)"
   ]
  },
  {
   "cell_type": "code",
   "execution_count": null,
   "id": "720431bc-a5d4-463d-8b0e-c241003b620b",
   "metadata": {},
   "outputs": [],
   "source": [
    "import numpy as np\n",
    "import matplotlib.pyplot as plt\n",
    "n,p=10,.5#number of trials,probability of each trial\n",
    "s=np.random.binomial(n,p,1000)\n",
    "plt.hist(s)"
   ]
  },
  {
   "cell_type": "code",
   "execution_count": null,
   "id": "a449f40d-f046-4631-8f4e-07b4cbefb68b",
   "metadata": {},
   "outputs": [],
   "source": [
    "import numpy as np\n",
    "import matplotlib.pyplot as plt\n",
    "n,p=10,.5#number of trials,probability of each trial\n",
    "s=np.random.binomial(n,p,1000)\n",
    "plt.hist(s)"
   ]
  },
  {
   "cell_type": "code",
   "execution_count": null,
   "id": "c1b6681c-c810-4403-a34c-27c6226a78b5",
   "metadata": {},
   "outputs": [],
   "source": [
    "from scipy.stats import norm\n",
    "prob=norm.cdf(1.6,0,1)\n",
    "print(prob)"
   ]
  },
  {
   "cell_type": "code",
   "execution_count": null,
   "id": "1ca286c6-7ac8-4047-8840-5bdd617650a9",
   "metadata": {},
   "outputs": [],
   "source": [
    "from scipy.stats import norm\n",
    "def calculate_z_score(data):\n",
    "    mean=np.mean(data)\n",
    "    std_dev=np.std(data)\n",
    "    z_scores=(data-mean)/std_dev\n",
    "    return z_scores\n",
    "dataset=[3,9,23,43,53,4,5,30,50,70,150,6,7,8,9,10]\n",
    "z_scores=calculate_z_score(dataset)\n",
    "print('Z_Score:',z_scores)\n",
    "#probablities\n",
    "prob=norm.cdf(z_scores,0,1)\n",
    "print(prob)"
   ]
  },
  {
   "cell_type": "code",
   "execution_count": null,
   "id": "f1920ca6-309c-4957-b708-d28b34c52615",
   "metadata": {},
   "outputs": [],
   "source": [
    "prob=norm.cdf(0.538,0,1)\n",
    "print(prob)"
   ]
  },
  {
   "cell_type": "code",
   "execution_count": null,
   "id": "ca632af6-641a-4e45-9952-a74681331990",
   "metadata": {},
   "outputs": [],
   "source": [
    "import numpy as np\n",
    "import matplotlib.pyplot as plt\n",
    "import seaborn as sns\n",
    "import statsmodels.api as sm\n",
    "data=np.random.randn(1000)\n",
    "sns.histplot(data,bins=30,kde=True,color='gold',edgecolor='blue')\n",
    "plt.xlabel('Values')\n",
    "plt.ylabel('Density')\n",
    "plt.title('Customized Histogram with Density Plot')\n",
    "plt.show()\n",
    "sm.qqplot(data,line='45')\n",
    "plt.show()"
   ]
  },
  {
   "cell_type": "code",
   "execution_count": null,
   "id": "9712b5f1-1737-4b68-986a-c022dfa19586",
   "metadata": {},
   "outputs": [],
   "source": [
    "import numpy as np\n",
    "population=np.arange(1,1001)\n",
    "sample_size=100\n",
    "np.random.seed(123)\n",
    "sample=np.random.choice(population,sample_size,replace=False)\n",
    "print(\"Sample:\",sample)"
   ]
  },
  {
   "cell_type": "code",
   "execution_count": null,
   "id": "0d2d10c2-3d3a-492e-b4d1-f6c8cf60771d",
   "metadata": {},
   "outputs": [],
   "source": [
    "import numpy as np\n",
    "population=np.arange(1,500)\n",
    "sample_size=10\n",
    "np.random.seed(123)\n",
    "sample=np.random.choice(population,sample_size,replace=False)\n",
    "print(\"Sample:\",sample)"
   ]
  },
  {
   "cell_type": "code",
   "execution_count": null,
   "id": "fc930975-a0dd-472e-8e67-1ddbe6c6acd0",
   "metadata": {},
   "outputs": [],
   "source": [
    "import numpy as np\n",
    "heights=[165,170,168,172,169,171,166,173,167,174]\n",
    "sample_mean=np.mean(heights)\n",
    "sample_sd=np.std(heights,ddof=1)\n",
    "print('sample_mean:',sample_mean)\n",
    "print('sample_sd:',sample_sd)"
   ]
  },
  {
   "cell_type": "code",
   "execution_count": null,
   "id": "5c02eeb9-65cf-444b-af63-b8313b9f0ea4",
   "metadata": {},
   "outputs": [],
   "source": [
    "n=len(heights)\n",
    "sem=sample_sd/np.sqrt(n)\n",
    "confidence_interval=(sample_mean-1.96*sem,sample_mean+1.96*sem)\n",
    "print(f\"95% Confidence Interval:[{confidence_interval[0]:.2f},{confidence_interval[1]:2f}]\")"
   ]
  },
  {
   "cell_type": "code",
   "execution_count": null,
   "id": "a4c7e2d5-b622-4ddc-bc5d-9590bafc2eb9",
   "metadata": {},
   "outputs": [],
   "source": [
    "import pandas as pd\n",
    "import numpy as np\n",
    "import scipy.stats as stats\n",
    "df=pd.read_csv('chlolera_outbreak.csv')\n",
    "sample_mean=df['Age'].std()\n",
    "sample_std=df['Age'].std()\n",
    "n=len(df['Age'])\n",
    "conf_level=0.95\n",
    "alpha=1-conf_level\n",
    "t_critical=stats.t.ppf(1-alpha/2,df=n-1)\n",
    "margin=t_critical*(sample_std/np.sqrt(n))\n",
    "confidence_interval=(sample_mean-margin,sample_mean+margin)\n",
    "print(f\"95% Confidence Interval:[{confidence_interval[0]:.2f},{confidence_interval[1]:2f}]\")"
   ]
  },
  {
   "cell_type": "code",
   "execution_count": null,
   "id": "fc1ae5ea-4bc0-4460-93c8-c6e5897edbca",
   "metadata": {},
   "outputs": [],
   "source": [
    "import pandas as pd\n",
    "import numpy as np\n",
    "import scipy.stats as stats\n",
    "df=pd.read_csv('chlolera_outbreak.csv')\n",
    "sample_mean=df['Age'].std()\n",
    "sample_std=df['Age'].std()\n",
    "n=len(df['Age'])\n",
    "conf_level=0.95\n",
    "alpha=1-conf_level\n",
    "t_critical=stats.t.ppf(1-alpha/2,df=n-1)\n",
    "margin=t_critical*(sample_std/np.sqrt(n))\n",
    "confidence_interval=(sample_mean-margin,sample_mean+margin)\n",
    "print(f\"95% Confidence Interval:[{confidence_interval[0]:.2f},{confidence_interval[1]:2f}]\")"
   ]
  },
  {
   "cell_type": "code",
   "execution_count": null,
   "id": "078b626e-3711-4f2d-ae10-5e87a243dc7d",
   "metadata": {},
   "outputs": [],
   "source": [
    "from scipy.stats import ttest_ind\n",
    "import numpy as np\n",
    "mean_A=120\n",
    "std_A=10\n",
    "n_A=30\n",
    "mean_B=130\n",
    "std_B=12\n",
    "n_B=30\n",
    "np.random.seed(0)\n",
    "group_A=np.random.normal(mean_A,std_A,n_A)\n",
    "group_B=np.random.normal(mean_B,std_B,n_B)\n",
    "t_statistic,p_value=ttest_ind(group_A,group_B)\n",
    "print(\"t-statistic:\",t_statistic)\n",
    "print(\"p-value:\",p_value)"
   ]
  },
  {
   "cell_type": "code",
   "execution_count": null,
   "id": "d679bb0d-3f50-4e42-9565-e274b2f16197",
   "metadata": {},
   "outputs": [],
   "source": [
    "import pandas as pd\n",
    "from scipy import stats\n",
    "df=pd.read_csv(\"childhealthdata.csv\")\n",
    "group_A=df[df['Sex']=='Male']['weight']\n",
    "group_B=df[df['Sex']=='Female']['weight']\n",
    "t_statistic,p_value=stats.ttest_ind(group_A,group_B)\n",
    "print(f\"T-Statistic:{t_statistic},P-Value:{p_value}\")"
   ]
  },
  {
   "cell_type": "code",
   "execution_count": null,
   "id": "f47ac468-0b92-4ba7-8ed0-ab134777771f",
   "metadata": {},
   "outputs": [],
   "source": [
    "import pandas as pd\n",
    "import scipy.stats as stats\n",
    "df=pd.read_csv('chlolera_outbreak.csv')\n",
    "print(df.head())\n",
    "contingency_table=pd.crosstab(df['Water'],df['Outcome'])\n",
    "print(contingency_table)\n",
    "chi2,p,_,_=stats.chi2_contingency(contingency_table)\n",
    "print(f\"Chi-square Statistic:{chi2}\")\n",
    "print(f\"P-Value:{p}\")"
   ]
  },
  {
   "cell_type": "code",
   "execution_count": null,
   "id": "1ddcf3f1-76b8-49f9-a185-0b52096d94f4",
   "metadata": {},
   "outputs": [],
   "source": [
    "import pandas as pd\n",
    "import scipy.stats as stats\n",
    "df=pd.read_csv('chlolera_outbreak.csv')\n",
    "print(df.head())\n",
    "contingency_table=pd.crosstab(df['Informal_settlement'],df['Outcome'])\n",
    "print(contingency_table)\n",
    "chi2,p,_,_=stats.chi2_contingency(contingency_table)\n",
    "print(f\"Chi-square Statistic:{chi2}\")\n",
    "print(f\"P-Value:{p}\")"
   ]
  },
  {
   "cell_type": "code",
   "execution_count": null,
   "id": "2edae518-9bfe-45b6-ba88-a1a3625ae5ce",
   "metadata": {},
   "outputs": [],
   "source": [
    "import pandas as pd\n",
    "import scipy.stats as stats\n",
    "df=pd.read_csv('chlolera_outbreak.csv')\n",
    "print(df.head())\n",
    "contingency_table=pd.crosstab(df['Sanitation'],df['Outcome'])\n",
    "print(contingency_table)\n",
    "chi2,p,_,_=stats.chi2_contingency(contingency_table)\n",
    "print(f\"Chi-square Statistic:{chi2}\")\n",
    "print(f\"P-Value:{p}\")"
   ]
  },
  {
   "cell_type": "code",
   "execution_count": null,
   "id": "a0c02fa1-e88f-48a9-9912-a7f07ea39759",
   "metadata": {},
   "outputs": [],
   "source": [
    "def estimate_weight(height):\n",
    "    intercept=-6.671\n",
    "    slope=0.2177\n",
    "    return intercept+slope*height\n",
    "weight_66_8=estimate_weight(66.8)\n",
    "weight_115_3=estimate_weight(115.3)\n",
    "actual_weight=13.5\n",
    "height_92_5=92.5\n",
    "predicted_weight_92_5=estimate_weight(height_92_5)\n",
    "error_estimate=actual_weight-predicted_weight_92_5\n",
    "print(f\"Estimated weight for 66.8 cm height:{weight_66_8:.2f}kg\")\n",
    "print(f\"Estimated weight for 115.3 cm height:{weight_115_3:.2f}kg\")\n",
    "print(f\"Predicted weight for 92.5 cm height:{predicted_weight_92_5:.2f}kg\")\n",
    "print(f\"Error estimate for actual weight 13.5 kg and height 92.5 cm:{error_estimate:.3f}kg\")"
   ]
  },
  {
   "cell_type": "code",
   "execution_count": null,
   "id": "89e18065-30ee-447b-ab6f-ad0c5434ca82",
   "metadata": {},
   "outputs": [],
   "source": [
    "def estimate_weight(height,age):\n",
    "    intercept=-3.4673\n",
    "    height_coeff=0.1608\n",
    "    age_coeff=0.0536\n",
    "    return intercept+height_coeff*height+age_coeff*age\n",
    "estimated_weight_1=estimate_weight(70.4,4)\n",
    "estimated_weight_2=estimate_weight(105.6,55)\n",
    "actual_weight_1=7.1\n",
    "actual_weight_2=15.7\n",
    "error_estimate_1=actual_weight_1-estimated_weight_1\n",
    "error_estimate_2=actual_weight_2-estimated_weight_2\n",
    "print(f\"Estimated weight for child 1:(70.4 cm,4 months):{estimated_weight_1:.2f}kg\")\n",
    "print(f\"Actual weight for child 1:{actual_weight_1}kg\")\n",
    "print(f\"Error estimate for child 1:{error_estimate_1:.2f}kg\")\n",
    "print(f\"\\nEstimated weight for child 2(105.6 cm,55 months):{estimated_weight_2:.2f}kg\")\n",
    "print(f\"Actual weight for child 2:{actual_weight_2}kg\")\n",
    "print(f\"Eror estimate for child 2:{error_estimate_2:.2f}kg\")"
   ]
  },
  {
   "cell_type": "code",
   "execution_count": null,
   "id": "e3db91c2-5821-4d9b-8ef9-36d67f2fff98",
   "metadata": {},
   "outputs": [],
   "source": [
    "import numpy as np\n",
    "intercept=-2.1802\n",
    "coefficient_urban=0.3543\n",
    "urban=0\n",
    "log_odds_rural=intercept+coefficient_urban*urban\n",
    "probability_rural=1/(1+np.exp(-log_odds_rural))\n",
    "print(f\"Probability of diarrhea for child in rural area:{probability_rural:.4f}\")\n",
    "def estimate_weight(height,age):\n",
    "    intercept=-3.4673\n",
    "    height_coeff=0.1608\n",
    "    age_coeff=0.0536\n",
    "    return intercept+height_coeff*height+age_coeff*age\n",
    "estimated_weight_1 = estimate_weight(70.4,4)\n",
    "estimated_weight_2 = estimate_weight(105.6,55)\n",
    "actual_weight_1 = 7.1\n",
    "actual_weight_2 = 15.7\n",
    "error_estimate_1 = actual_weight_1-estimated_weight_1\n",
    "error_estimate_2 = actual_weight_2-estimated_weight_2\n",
    "print(f\"Estimated weight for child 1 (70.4,4 months):{estimated_weight_1:.2f}kg\")\n",
    "print(f\"Actual weight for child 1:{actual_weight_1}kg\")\n",
    "print(f\"Error estimate for child 1:{error_estimate_1:.2f}kg\")\n",
    "print(f\"\\nEstimated weight for child 2 (105.6 cm,55 months):{estimated_weight_2:.2f} kg\")\n",
    "print(f\"Actual weight for child 2: {actual_weight_2} kg\")\n",
    "print(f\"Error estimate for child 2: {error_estimate_2:.2f} kg\")"
   ]
  },
  {
   "cell_type": "code",
   "execution_count": null,
   "id": "f1d1aec4-20d4-42b0-bb7b-3524428ffbd6",
   "metadata": {},
   "outputs": [],
   "source": []
  }
 ],
 "metadata": {
  "kernelspec": {
   "display_name": "Python 3 (ipykernel)",
   "language": "python",
   "name": "python3"
  },
  "language_info": {
   "codemirror_mode": {
    "name": "ipython",
    "version": 3
   },
   "file_extension": ".py",
   "mimetype": "text/x-python",
   "name": "python",
   "nbconvert_exporter": "python",
   "pygments_lexer": "ipython3",
   "version": "3.11.7"
  }
 },
 "nbformat": 4,
 "nbformat_minor": 5
}
