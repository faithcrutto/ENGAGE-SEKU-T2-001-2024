{
 "cells": [
  {
   "cell_type": "code",
   "execution_count": 5,
   "id": "24e74715-a3f2-48b3-b53d-0ce22ac8e357",
   "metadata": {},
   "outputs": [],
   "source": [
    "import pandas as pd"
   ]
  },
  {
   "cell_type": "code",
   "execution_count": 6,
   "id": "2cbdfb83-18f4-43ff-84ae-21ca40f74b85",
   "metadata": {},
   "outputs": [],
   "source": [
    "\n",
    "data = pd.read_csv(\"rhesus_incompatibility (2).csv\") "
   ]
  },
  {
   "cell_type": "code",
   "execution_count": 7,
   "id": "6c9c20a4-94aa-427e-8fa9-38c74a2fc8a6",
   "metadata": {},
   "outputs": [
    {
     "data": {
      "text/html": [
       "<div>\n",
       "<style scoped>\n",
       "    .dataframe tbody tr th:only-of-type {\n",
       "        vertical-align: middle;\n",
       "    }\n",
       "\n",
       "    .dataframe tbody tr th {\n",
       "        vertical-align: top;\n",
       "    }\n",
       "\n",
       "    .dataframe thead th {\n",
       "        text-align: right;\n",
       "    }\n",
       "</style>\n",
       "<table border=\"1\" class=\"dataframe\">\n",
       "  <thead>\n",
       "    <tr style=\"text-align: right;\">\n",
       "      <th></th>\n",
       "      <th>parent_rh_mother</th>\n",
       "      <th>parent_rh_father</th>\n",
       "      <th>antibodies</th>\n",
       "      <th>prev_pregnancy_outcome</th>\n",
       "      <th>age</th>\n",
       "      <th>ethnicity</th>\n",
       "      <th>socioeconomic_status</th>\n",
       "      <th>blood_group</th>\n",
       "      <th>risk_of_incompatibility</th>\n",
       "    </tr>\n",
       "  </thead>\n",
       "  <tbody>\n",
       "    <tr>\n",
       "      <th>0</th>\n",
       "      <td>Positive</td>\n",
       "      <td>Positive</td>\n",
       "      <td>Low</td>\n",
       "      <td>No</td>\n",
       "      <td>28</td>\n",
       "      <td>Kalenjin</td>\n",
       "      <td>Medium</td>\n",
       "      <td>B-</td>\n",
       "      <td>0</td>\n",
       "    </tr>\n",
       "    <tr>\n",
       "      <th>1</th>\n",
       "      <td>Positive</td>\n",
       "      <td>Positive</td>\n",
       "      <td>High</td>\n",
       "      <td>No</td>\n",
       "      <td>34</td>\n",
       "      <td>Kalenjin</td>\n",
       "      <td>Low</td>\n",
       "      <td>B+</td>\n",
       "      <td>0</td>\n",
       "    </tr>\n",
       "    <tr>\n",
       "      <th>2</th>\n",
       "      <td>Positive</td>\n",
       "      <td>Positive</td>\n",
       "      <td>Low</td>\n",
       "      <td>No</td>\n",
       "      <td>42</td>\n",
       "      <td>Kalenjin</td>\n",
       "      <td>Low</td>\n",
       "      <td>B+</td>\n",
       "      <td>1</td>\n",
       "    </tr>\n",
       "    <tr>\n",
       "      <th>3</th>\n",
       "      <td>Positive</td>\n",
       "      <td>Positive</td>\n",
       "      <td>High</td>\n",
       "      <td>Complicated</td>\n",
       "      <td>33</td>\n",
       "      <td>Kalenjin</td>\n",
       "      <td>High</td>\n",
       "      <td>O-</td>\n",
       "      <td>1</td>\n",
       "    </tr>\n",
       "    <tr>\n",
       "      <th>4</th>\n",
       "      <td>Positive</td>\n",
       "      <td>Positive</td>\n",
       "      <td>Low</td>\n",
       "      <td>No</td>\n",
       "      <td>35</td>\n",
       "      <td>Kisii</td>\n",
       "      <td>Medium</td>\n",
       "      <td>O-</td>\n",
       "      <td>0</td>\n",
       "    </tr>\n",
       "  </tbody>\n",
       "</table>\n",
       "</div>"
      ],
      "text/plain": [
       "  parent_rh_mother parent_rh_father antibodies prev_pregnancy_outcome  age  \\\n",
       "0         Positive         Positive        Low                     No   28   \n",
       "1         Positive         Positive       High                     No   34   \n",
       "2         Positive         Positive        Low                     No   42   \n",
       "3         Positive         Positive       High            Complicated   33   \n",
       "4         Positive         Positive        Low                     No   35   \n",
       "\n",
       "  ethnicity socioeconomic_status blood_group  risk_of_incompatibility  \n",
       "0  Kalenjin               Medium          B-                        0  \n",
       "1  Kalenjin                  Low          B+                        0  \n",
       "2  Kalenjin                  Low          B+                        1  \n",
       "3  Kalenjin                 High          O-                        1  \n",
       "4     Kisii               Medium          O-                        0  "
      ]
     },
     "execution_count": 7,
     "metadata": {},
     "output_type": "execute_result"
    }
   ],
   "source": [
    "data.head()"
   ]
  },
  {
   "cell_type": "code",
   "execution_count": 8,
   "id": "46bdd000-b99e-49b4-a5d3-621bf057c570",
   "metadata": {},
   "outputs": [
    {
     "data": {
      "text/plain": [
       "(6693, 9)"
      ]
     },
     "execution_count": 8,
     "metadata": {},
     "output_type": "execute_result"
    }
   ],
   "source": [
    "data.shape"
   ]
  },
  {
   "cell_type": "code",
   "execution_count": null,
   "id": "60fc34b5-af50-4370-ae9d-d9310592db8d",
   "metadata": {},
   "outputs": [],
   "source": [
    "from sklearn.metrics import accuracy_score, precision_score, recall_score,\n",
    "f1_score, roc_auc_score, mean_absolute_error, mean_squared_error, r2_score, confusion_matrix,\n",
    "roc_curve, classification_report\n",
    "# Predict on the test set \n",
    "y_pred = model.predict(X_test)\n",
    "y_prob = model.predict_proba(X_test)[:, 1]\n",
    "# Calculate evaluation metrics \n",
    "accuracy = accuracy_score(y_test, y_pred)\n",
    "precision = precision_score(y_test, y_pred) \n",
    "recall = recall_score(y_test, y_pred)\n",
    "f1 = f1_score(y_test, y_pred) \n",
    "roc_auc = roc_auc_score(y_test, y_prob)\n",
    "r_squared = r2_score(y_test, y_pred) \n",
    "mae = mean_absolute_error(y_test, y_pred)\n",
    "mse = mean_squared_error(y_test, y_pred)\n",
    "# Print the evaluation metrics \n",
    "print(f'Accuracy: {accuracy:.4f}') \n",
    "print(f'Precision: {precision:.4f}') \n",
    "print(f'Recall: {recall:.4f}') \n",
    "print(f'F1 Score: {f1:.4f}') \n",
    "print(f'ROC-AUC: {roc_auc:.4f}') \n",
    "print(f'R-Squared: {r_squared:.4f}')\n",
    "print(f'MAE: {mae:.4f}') \n",
    "print(f'MSE: {mse:.4f}')"
   ]
  },
  {
   "cell_type": "code",
   "execution_count": null,
   "id": "0886dd95-e042-40da-a995-acb584cc0068",
   "metadata": {},
   "outputs": [],
   "source": [
    "from sklearn.metrics import mean_squared_error, r2_score\n",
    "\n",
    "mse = mean_squared_error(y_test, y_pred)\n",
    "r2 = r2_score(y_test, y_pred)\n",
    "\n",
    "print(f\"MSE: {mse}\")\n",
    "print(f\"R-SQUARE: {r2}\")"
   ]
  }
 ],
 "metadata": {
  "kernelspec": {
   "display_name": "Python 3 (ipykernel)",
   "language": "python",
   "name": "python3"
  },
  "language_info": {
   "codemirror_mode": {
    "name": "ipython",
    "version": 3
   },
   "file_extension": ".py",
   "mimetype": "text/x-python",
   "name": "python",
   "nbconvert_exporter": "python",
   "pygments_lexer": "ipython3",
   "version": "3.11.7"
  }
 },
 "nbformat": 4,
 "nbformat_minor": 5
}
