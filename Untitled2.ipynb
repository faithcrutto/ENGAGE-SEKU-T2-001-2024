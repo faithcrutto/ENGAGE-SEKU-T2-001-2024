{
 "cells": [
  {
   "cell_type": "code",
   "execution_count": 1,
   "id": "816809e6-bf10-485c-a1da-0ce9bc5f2336",
   "metadata": {},
   "outputs": [],
   "source": [
    "import pandas as pd"
   ]
  },
  {
   "cell_type": "code",
   "execution_count": 3,
   "id": "d614fb75-85c4-4d24-9b91-18acf03caba5",
   "metadata": {},
   "outputs": [],
   "source": [
    "data=pd.read_csv(\"rhesus_incompatibility (2).csv\")"
   ]
  },
  {
   "cell_type": "code",
   "execution_count": 4,
   "id": "14d0324a-59ff-4948-bfed-18333de360d1",
   "metadata": {},
   "outputs": [
    {
     "data": {
      "text/plain": [
       "(6693, 9)"
      ]
     },
     "execution_count": 4,
     "metadata": {},
     "output_type": "execute_result"
    }
   ],
   "source": [
    "data.shape"
   ]
  },
  {
   "cell_type": "code",
   "execution_count": null,
   "id": "c7645291-956c-4f32-be38-e0491e904c7b",
   "metadata": {},
   "outputs": [],
   "source": []
  }
 ],
 "metadata": {
  "kernelspec": {
   "display_name": "Python 3 (ipykernel)",
   "language": "python",
   "name": "python3"
  },
  "language_info": {
   "codemirror_mode": {
    "name": "ipython",
    "version": 3
   },
   "file_extension": ".py",
   "mimetype": "text/x-python",
   "name": "python",
   "nbconvert_exporter": "python",
   "pygments_lexer": "ipython3",
   "version": "3.11.7"
  }
 },
 "nbformat": 4,
 "nbformat_minor": 5
}
